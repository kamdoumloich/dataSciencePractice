{
 "cells": [
  {
   "cell_type": "code",
   "execution_count": 1,
   "metadata": {},
   "outputs": [],
   "source": [
    "# import pandas library\n",
    "import pandas as pd"
   ]
  },
  {
   "cell_type": "code",
   "execution_count": 17,
   "metadata": {},
   "outputs": [],
   "source": [
    "baby_names = pd.read_csv(\"babies-first-names.csv\")"
   ]
  },
  {
   "cell_type": "markdown",
   "metadata": {},
   "source": [
    "### 1. The 5 most popular baby name in 2018"
   ]
  },
  {
   "cell_type": "code",
   "execution_count": 22,
   "metadata": {},
   "outputs": [
    {
     "data": {
      "text/html": [
       "<div>\n",
       "<style scoped>\n",
       "    .dataframe tbody tr th:only-of-type {\n",
       "        vertical-align: middle;\n",
       "    }\n",
       "\n",
       "    .dataframe tbody tr th {\n",
       "        vertical-align: top;\n",
       "    }\n",
       "\n",
       "    .dataframe thead th {\n",
       "        text-align: right;\n",
       "    }\n",
       "</style>\n",
       "<table border=\"1\" class=\"dataframe\">\n",
       "  <thead>\n",
       "    <tr style=\"text-align: right;\">\n",
       "      <th></th>\n",
       "      <th>yr</th>\n",
       "      <th>sex</th>\n",
       "      <th>FirstForename</th>\n",
       "      <th>number</th>\n",
       "      <th>rank</th>\n",
       "      <th>position</th>\n",
       "    </tr>\n",
       "  </thead>\n",
       "  <tbody>\n",
       "    <tr>\n",
       "      <th>228551</th>\n",
       "      <td>2018</td>\n",
       "      <td>G</td>\n",
       "      <td>Olivia</td>\n",
       "      <td>444</td>\n",
       "      <td>1</td>\n",
       "      <td>1</td>\n",
       "    </tr>\n",
       "    <tr>\n",
       "      <th>228552</th>\n",
       "      <td>2018</td>\n",
       "      <td>G</td>\n",
       "      <td>Emily</td>\n",
       "      <td>423</td>\n",
       "      <td>2</td>\n",
       "      <td>2</td>\n",
       "    </tr>\n",
       "    <tr>\n",
       "      <th>225086</th>\n",
       "      <td>2018</td>\n",
       "      <td>B</td>\n",
       "      <td>Jack</td>\n",
       "      <td>422</td>\n",
       "      <td>1</td>\n",
       "      <td>1</td>\n",
       "    </tr>\n",
       "    <tr>\n",
       "      <th>228553</th>\n",
       "      <td>2018</td>\n",
       "      <td>G</td>\n",
       "      <td>Isla</td>\n",
       "      <td>383</td>\n",
       "      <td>3</td>\n",
       "      <td>3</td>\n",
       "    </tr>\n",
       "    <tr>\n",
       "      <th>228554</th>\n",
       "      <td>2018</td>\n",
       "      <td>G</td>\n",
       "      <td>Sophie</td>\n",
       "      <td>331</td>\n",
       "      <td>4</td>\n",
       "      <td>4</td>\n",
       "    </tr>\n",
       "  </tbody>\n",
       "</table>\n",
       "</div>"
      ],
      "text/plain": [
       "          yr sex FirstForename  number  rank position\n",
       "228551  2018   G        Olivia     444     1        1\n",
       "228552  2018   G         Emily     423     2        2\n",
       "225086  2018   B          Jack     422     1        1\n",
       "228553  2018   G          Isla     383     3        3\n",
       "228554  2018   G        Sophie     331     4        4"
      ]
     },
     "execution_count": 22,
     "metadata": {},
     "output_type": "execute_result"
    }
   ],
   "source": [
    "baby_names_2018 = baby_names.loc[baby_names[\"yr\"] == 2018, : ]\n",
    "sorted_names_2018 = baby_names_2018.sort_values('number', ascending = False)\n",
    "sorted_names_2018.iloc[0:5]"
   ]
  },
  {
   "cell_type": "code",
   "execution_count": 23,
   "metadata": {},
   "outputs": [],
   "source": [
    "### 2. The 5 most popular baby name by year and sexe"
   ]
  }
 ],
 "metadata": {
  "kernelspec": {
   "display_name": "Python 3",
   "language": "python",
   "name": "python3"
  },
  "language_info": {
   "codemirror_mode": {
    "name": "ipython",
    "version": 3
   },
   "file_extension": ".py",
   "mimetype": "text/x-python",
   "name": "python",
   "nbconvert_exporter": "python",
   "pygments_lexer": "ipython3",
   "version": "3.8.5"
  }
 },
 "nbformat": 4,
 "nbformat_minor": 4
}
